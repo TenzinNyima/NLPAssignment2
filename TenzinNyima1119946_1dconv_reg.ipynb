{
  "nbformat": 4,
  "nbformat_minor": 0,
  "metadata": {
    "colab": {
      "name": "TenzinNyima1119946_1dconv_reg.ipynb",
      "provenance": [],
      "collapsed_sections": [],
      "machine_shape": "hm"
    },
    "kernelspec": {
      "name": "python3",
      "display_name": "Python 3"
    },
    "accelerator": "GPU"
  },
  "cells": [
    {
      "cell_type": "code",
      "metadata": {
        "id": "PTZZq9lVqiRl",
        "colab_type": "code",
        "colab": {}
      },
      "source": [
        "!pip install sklearn"
      ],
      "execution_count": 0,
      "outputs": []
    },
    {
      "cell_type": "code",
      "metadata": {
        "id": "tcfjJ7FXpApX",
        "colab_type": "code",
        "colab": {}
      },
      "source": [
        "import numpy as np\n",
        "import pandas as pd\n",
        "import seaborn as sns\n",
        "import matplotlib.pyplot as plt\n",
        "sns.set(color_codes=True)\n",
        "import os\n",
        "#from sklearn.cross_validation import train_test_split\n",
        "from sklearn.model_selection import train_test_split"
      ],
      "execution_count": 0,
      "outputs": []
    },
    {
      "cell_type": "code",
      "metadata": {
        "id": "X3HydCUOpCL1",
        "colab_type": "code",
        "outputId": "bdc6b9ec-eee3-4c9a-e436-0879c9b4338e",
        "colab": {
          "base_uri": "https://localhost:8080/",
          "height": 289
        }
      },
      "source": [
        "\n",
        "filelink = \"https://raw.githubusercontent.com/cacoderquan/Sentiment-Analysis-on-the-Rotten-Tomatoes-movie-review-dataset/master/train.tsv\"\n",
        "raw_data = pd.read_csv(filelink, sep=\"\\t\")\n",
        "print(raw_data.shape)\n",
        "print()\n",
        "print(raw_data)"
      ],
      "execution_count": 2,
      "outputs": [
        {
          "output_type": "stream",
          "text": [
            "(156060, 4)\n",
            "\n",
            "        PhraseId  ...  Sentiment\n",
            "0              1  ...          1\n",
            "1              2  ...          2\n",
            "2              3  ...          2\n",
            "3              4  ...          2\n",
            "4              5  ...          2\n",
            "...          ...  ...        ...\n",
            "156055    156056  ...          2\n",
            "156056    156057  ...          1\n",
            "156057    156058  ...          3\n",
            "156058    156059  ...          2\n",
            "156059    156060  ...          2\n",
            "\n",
            "[156060 rows x 4 columns]\n"
          ],
          "name": "stdout"
        }
      ]
    },
    {
      "cell_type": "code",
      "metadata": {
        "id": "Ftu1nGHT5y8G",
        "colab_type": "code",
        "outputId": "6b8cc1a7-61a3-4f1f-fbc9-cd1d4379690b",
        "colab": {
          "base_uri": "https://localhost:8080/",
          "height": 359
        }
      },
      "source": [
        "raw_data.head(10)"
      ],
      "execution_count": 3,
      "outputs": [
        {
          "output_type": "execute_result",
          "data": {
            "text/html": [
              "<div>\n",
              "<style scoped>\n",
              "    .dataframe tbody tr th:only-of-type {\n",
              "        vertical-align: middle;\n",
              "    }\n",
              "\n",
              "    .dataframe tbody tr th {\n",
              "        vertical-align: top;\n",
              "    }\n",
              "\n",
              "    .dataframe thead th {\n",
              "        text-align: right;\n",
              "    }\n",
              "</style>\n",
              "<table border=\"1\" class=\"dataframe\">\n",
              "  <thead>\n",
              "    <tr style=\"text-align: right;\">\n",
              "      <th></th>\n",
              "      <th>PhraseId</th>\n",
              "      <th>SentenceId</th>\n",
              "      <th>Phrase</th>\n",
              "      <th>Sentiment</th>\n",
              "    </tr>\n",
              "  </thead>\n",
              "  <tbody>\n",
              "    <tr>\n",
              "      <th>0</th>\n",
              "      <td>1</td>\n",
              "      <td>1</td>\n",
              "      <td>A series of escapades demonstrating the adage ...</td>\n",
              "      <td>1</td>\n",
              "    </tr>\n",
              "    <tr>\n",
              "      <th>1</th>\n",
              "      <td>2</td>\n",
              "      <td>1</td>\n",
              "      <td>A series of escapades demonstrating the adage ...</td>\n",
              "      <td>2</td>\n",
              "    </tr>\n",
              "    <tr>\n",
              "      <th>2</th>\n",
              "      <td>3</td>\n",
              "      <td>1</td>\n",
              "      <td>A series</td>\n",
              "      <td>2</td>\n",
              "    </tr>\n",
              "    <tr>\n",
              "      <th>3</th>\n",
              "      <td>4</td>\n",
              "      <td>1</td>\n",
              "      <td>A</td>\n",
              "      <td>2</td>\n",
              "    </tr>\n",
              "    <tr>\n",
              "      <th>4</th>\n",
              "      <td>5</td>\n",
              "      <td>1</td>\n",
              "      <td>series</td>\n",
              "      <td>2</td>\n",
              "    </tr>\n",
              "    <tr>\n",
              "      <th>5</th>\n",
              "      <td>6</td>\n",
              "      <td>1</td>\n",
              "      <td>of escapades demonstrating the adage that what...</td>\n",
              "      <td>2</td>\n",
              "    </tr>\n",
              "    <tr>\n",
              "      <th>6</th>\n",
              "      <td>7</td>\n",
              "      <td>1</td>\n",
              "      <td>of</td>\n",
              "      <td>2</td>\n",
              "    </tr>\n",
              "    <tr>\n",
              "      <th>7</th>\n",
              "      <td>8</td>\n",
              "      <td>1</td>\n",
              "      <td>escapades demonstrating the adage that what is...</td>\n",
              "      <td>2</td>\n",
              "    </tr>\n",
              "    <tr>\n",
              "      <th>8</th>\n",
              "      <td>9</td>\n",
              "      <td>1</td>\n",
              "      <td>escapades</td>\n",
              "      <td>2</td>\n",
              "    </tr>\n",
              "    <tr>\n",
              "      <th>9</th>\n",
              "      <td>10</td>\n",
              "      <td>1</td>\n",
              "      <td>demonstrating the adage that what is good for ...</td>\n",
              "      <td>2</td>\n",
              "    </tr>\n",
              "  </tbody>\n",
              "</table>\n",
              "</div>"
            ],
            "text/plain": [
              "   PhraseId  ...  Sentiment\n",
              "0         1  ...          1\n",
              "1         2  ...          2\n",
              "2         3  ...          2\n",
              "3         4  ...          2\n",
              "4         5  ...          2\n",
              "5         6  ...          2\n",
              "6         7  ...          2\n",
              "7         8  ...          2\n",
              "8         9  ...          2\n",
              "9        10  ...          2\n",
              "\n",
              "[10 rows x 4 columns]"
            ]
          },
          "metadata": {
            "tags": []
          },
          "execution_count": 3
        }
      ]
    },
    {
      "cell_type": "code",
      "metadata": {
        "id": "IyxVGl9KgWud",
        "colab_type": "code",
        "colab": {}
      },
      "source": [
        "# extract full sentences only from the dataset\n",
        "# fullSentences = []\n",
        "# curSentence = 0\n",
        "# for i in range(raw_data.shape[0]):\n",
        "#   if raw_data['SentenceId'][i]> curSentence:\n",
        "#     fullSentences.append((raw_data['Phrase'][i], raw_data['Sentiment'][i]))\n",
        "#     curSentence = curSentence +1"
      ],
      "execution_count": 0,
      "outputs": []
    },
    {
      "cell_type": "code",
      "metadata": {
        "id": "z41uq1Ang3Pg",
        "colab_type": "code",
        "colab": {}
      },
      "source": [
        "# put data into a df\n",
        "#fullSentDf = pd.DataFrame(fullSentences, columns=['Phrase', 'Sentiment'])"
      ],
      "execution_count": 0,
      "outputs": []
    },
    {
      "cell_type": "code",
      "metadata": {
        "id": "Pv8hTUx5uL2k",
        "colab_type": "code",
        "outputId": "bd936abf-8b71-49f2-aec1-88f9f035002d",
        "colab": {
          "base_uri": "https://localhost:8080/",
          "height": 519
        }
      },
      "source": [
        "dist = raw_data.groupby([\"Sentiment\"]).size()\n",
        "dist = dist/dist.sum()\n",
        "fig, ax = plt.subplots(figsize=(12,8))\n",
        "sns.barplot(dist.keys(), dist.values)"
      ],
      "execution_count": 4,
      "outputs": [
        {
          "output_type": "execute_result",
          "data": {
            "text/plain": [
              "<matplotlib.axes._subplots.AxesSubplot at 0x7f44aaa5ca20>"
            ]
          },
          "metadata": {
            "tags": []
          },
          "execution_count": 4
        },
        {
          "output_type": "display_data",
          "data": {
            "image/png": "[encoded data removed]",
            "text/plain": [
              "<Figure size 864x576 with 1 Axes>"
            ]
          },
          "metadata": {
            "tags": []
          }
        }
      ]
    },
    {
      "cell_type": "code",
      "metadata": {
        "id": "lxV2q1Srabzv",
        "colab_type": "code",
        "colab": {}
      },
      "source": [
        "import pandas as pd\n",
        "from sklearn.model_selection import train_test_split\n",
        "import numpy as np"
      ],
      "execution_count": 0,
      "outputs": []
    },
    {
      "cell_type": "code",
      "metadata": {
        "id": "736xpUx5bFDo",
        "colab_type": "code",
        "outputId": "9ead3152-6188-4165-b68f-f0841de5a43d",
        "colab": {
          "base_uri": "https://localhost:8080/",
          "height": 119
        }
      },
      "source": [
        "import nltk\n",
        "nltk.download('punkt')\n",
        "nltk.download('stopwords')\n",
        "nltk.download('wordnet')\n",
        "import random\n",
        "#nltk.download('movie_reviews')"
      ],
      "execution_count": 6,
      "outputs": [
        {
          "output_type": "stream",
          "text": [
            "[nltk_data] Downloading package punkt to /root/nltk_data...\n",
            "[nltk_data]   Unzipping tokenizers/punkt.zip.\n",
            "[nltk_data] Downloading package stopwords to /root/nltk_data...\n",
            "[nltk_data]   Unzipping corpora/stopwords.zip.\n",
            "[nltk_data] Downloading package wordnet to /root/nltk_data...\n",
            "[nltk_data]   Unzipping corpora/wordnet.zip.\n"
          ],
          "name": "stdout"
        }
      ]
    },
    {
      "cell_type": "code",
      "metadata": {
        "id": "TkeLZm7gG5yJ",
        "colab_type": "code",
        "outputId": "02a4f2a5-dd87-4c36-df96-97b39f7c40e3",
        "colab": {
          "base_uri": "https://localhost:8080/",
          "height": 34
        }
      },
      "source": [
        "import random\n",
        "from nltk.corpus import movie_reviews\n",
        "\n",
        "random.seed(9001)\n",
        "documents = []\n",
        "\n",
        "for i in range(int(len(raw_data))):\n",
        "  documents.append([raw_data['Phrase'][i], raw_data['Sentiment'][i]])\n",
        "\n",
        "random.shuffle(documents)\n",
        "print(documents[1][0])"
      ],
      "execution_count": 7,
      "outputs": [
        {
          "output_type": "stream",
          "text": [
            "can only remind us of brilliant crime dramas without becoming one itself .\n"
          ],
          "name": "stdout"
        }
      ]
    },
    {
      "cell_type": "code",
      "metadata": {
        "id": "kyQTsVlMyI0M",
        "colab_type": "code",
        "outputId": "53d4b6e8-1f62-4801-fd6a-f1ccac280fcf",
        "colab": {
          "base_uri": "https://localhost:8080/",
          "height": 34
        }
      },
      "source": [
        "from nltk.corpus import stopwords\n",
        "from nltk.tokenize import word_tokenize\n",
        "from nltk.stem import WordNetLemmatizer, PorterStemmer, LancasterStemmer\n",
        "porter = PorterStemmer()\n",
        "lancaster = LancasterStemmer()\n",
        "\n",
        "wordnet_lemmatizer = WordNetLemmatizer()\n",
        "stop_words = set(stopwords.words('english'))\n",
        "punctuations = '-\\'?:!.,;\\\"()'\n",
        "\n",
        "remove_stopwords = True\n",
        "useStemming = False\n",
        "useLemma = True\n",
        "removePuncs = True\n",
        "\n",
        "for r in range(len(documents)):\n",
        "  label = documents[r][1]\n",
        "  tempReview = []\n",
        "  for w in documents[r][0].split(' '):\n",
        "    newWord = w\n",
        "    if remove_stopwords and (w in stop_words):\n",
        "      continue\n",
        "    if removePuncs and (w in punctuations):\n",
        "      continue\n",
        "    if useStemming:\n",
        "      newWord = lancaster.stem(newWord)\n",
        "    if useLemma:\n",
        "      newWord = wordnet_lemmatizer.lemmatize(newWord)\n",
        "    tempReview.append(newWord)\n",
        "  # print(tempReview)\n",
        "  documents[r] = (' '.join(tempReview), label)\n",
        "\n",
        "  # documents[r] = (tempReview, label)\n",
        "print(documents[0][0])\n",
        "\n",
        "#now the document, which is the vocabulary for the training is preprocessed"
      ],
      "execution_count": 8,
      "outputs": [
        {
          "output_type": "stream",
          "text": [
            "lot recommend Read My Lips\n"
          ],
          "name": "stdout"
        }
      ]
    },
    {
      "cell_type": "code",
      "metadata": {
        "id": "XGZWLj2wzBGp",
        "colab_type": "code",
        "colab": {}
      },
      "source": [
        "# trainDataRaw = documents[:600]\n",
        "# testDataRaw = documents[600:]\n",
        "all_data = pd.DataFrame(documents, columns=['Phrase', 'Sentiment'])\n",
        "#train_data =  pd.DataFrame(trainDataRaw, columns=['text', 'sentiment'])\n",
        "#test_data =  pd.DataFrame(testDataRaw, columns=['text', 'sentiment'])\n",
        "x_train, x_test, y_train, y_test = train_test_split(all_data['Phrase'], all_data['Sentiment'], test_size=0.3, random_state=2003)"
      ],
      "execution_count": 0,
      "outputs": []
    },
    {
      "cell_type": "code",
      "metadata": {
        "id": "Br16U60uDGtg",
        "colab_type": "code",
        "outputId": "b7dbf316-148b-49ce-8e14-21d4c275aa29",
        "colab": {
          "base_uri": "https://localhost:8080/",
          "height": 34
        }
      },
      "source": [
        "print(x_train[555])"
      ],
      "execution_count": 10,
      "outputs": [
        {
          "output_type": "stream",
          "text": [
            "amount beautiful movement inside information\n"
          ],
          "name": "stdout"
        }
      ]
    },
    {
      "cell_type": "code",
      "metadata": {
        "id": "3j-85D7Nz8Q2",
        "colab_type": "code",
        "colab": {}
      },
      "source": [
        "from sklearn.feature_extraction.text import TfidfVectorizer\n",
        "from sklearn.feature_extraction.text import CountVectorizer\n",
        "from gensim.models import Word2Vec\n",
        "\n",
        "#Bag of Words\n",
        "#vectorizer = CountVectorizer(stop_words = 'english', ngram_range= (1,1))\n",
        "\n",
        "#TF-IDF\n",
        "vectorizer = TfidfVectorizer(stop_words = 'english', ngram_range= (1,1))\n",
        "\n",
        "#Word2Vec\n",
        "#vectorizer = Word2Vec(all_data['Phrase'], min_count=1)\n"
      ],
      "execution_count": 0,
      "outputs": []
    },
    {
      "cell_type": "code",
      "metadata": {
        "id": "qszCpKo7XeSC",
        "colab_type": "code",
        "colab": {}
      },
      "source": [
        "# from gensim.models import Word2Vec\n",
        "# sentences = [[\"cat\", \"say\", \"meow\"], [\"dog\", \"say\", \"woof\"]]\n",
        "# model = Word2Vec(sentences, min_count=1)"
      ],
      "execution_count": 0,
      "outputs": []
    },
    {
      "cell_type": "code",
      "metadata": {
        "id": "qU0zUQsV0h5M",
        "colab_type": "code",
        "colab": {}
      },
      "source": [
        "#X = vectorizer.fit_transform(all_data['Phrase'])\n",
        "#Y = all_data['Sentiment']\n",
        "x_train = vectorizer.fit_transform(x_train)\n",
        "# y_train = Y_train\n",
        "x_test = vectorizer.transform(x_test)\n",
        "# y_test = Y_test\n",
        "\n",
        "#print(X.shape); print(x_train.shape); print(Y_train.shape); print(x_test.shape); print(Y_test.shape)"
      ],
      "execution_count": 0,
      "outputs": []
    },
    {
      "cell_type": "code",
      "metadata": {
        "id": "EUhNqwlsiPlc",
        "colab_type": "code",
        "outputId": "ef59f083-ca4c-4157-99ca-b9e9862faa64",
        "colab": {
          "base_uri": "https://localhost:8080/",
          "height": 80
        }
      },
      "source": [
        "from keras.utils import to_categorical\n",
        "\n",
        "x_train_np = x_train.toarray()\n",
        "y_train = to_categorical(y_train)\n",
        "\n",
        "x_test_np = x_test.toarray()\n",
        "y_test = to_categorical(y_test)"
      ],
      "execution_count": 14,
      "outputs": [
        {
          "output_type": "stream",
          "text": [
            "Using TensorFlow backend.\n"
          ],
          "name": "stderr"
        },
        {
          "output_type": "display_data",
          "data": {
            "text/html": [
              "<p style=\"color: red;\">\n",
              "The default version of TensorFlow in Colab will soon switch to TensorFlow 2.x.<br>\n",
              "We recommend you <a href=\"https://www.tensorflow.org/guide/migrate\" target=\"_blank\">upgrade</a> now \n",
              "or ensure your notebook will continue to use TensorFlow 1.x via the <code>%tensorflow_version 1.x</code> magic:\n",
              "<a href=\"https://colab.research.google.com/notebooks/tensorflow_version.ipynb\" target=\"_blank\">more info</a>.</p>\n"
            ],
            "text/plain": [
              "<IPython.core.display.HTML object>"
            ]
          },
          "metadata": {
            "tags": []
          }
        }
      ]
    },
    {
      "cell_type": "code",
      "metadata": {
        "id": "70LBNDaKjjxM",
        "colab_type": "code",
        "outputId": "737101ee-c26f-4565-bbbd-1fa0501d145b",
        "colab": {
          "base_uri": "https://localhost:8080/",
          "height": 34
        }
      },
      "source": [
        "x_train_np.shape[0]"
      ],
      "execution_count": 15,
      "outputs": [
        {
          "output_type": "execute_result",
          "data": {
            "text/plain": [
              "109242"
            ]
          },
          "metadata": {
            "tags": []
          },
          "execution_count": 15
        }
      ]
    },
    {
      "cell_type": "code",
      "metadata": {
        "id": "8ul8m0jJkO-m",
        "colab_type": "code",
        "colab": {}
      },
      "source": [
        "x_train_final = np.expand_dims(x_train_np, axis=2)\n",
        "x_test_final = np.expand_dims(x_test_np, axis=2)"
      ],
      "execution_count": 0,
      "outputs": []
    },
    {
      "cell_type": "code",
      "metadata": {
        "id": "6rX537XKlHks",
        "colab_type": "code",
        "outputId": "a4f00e67-e0f0-464b-88f5-5f9f06a081a2",
        "colab": {
          "base_uri": "https://localhost:8080/",
          "height": 34
        }
      },
      "source": [
        "print(x_train_np.shape)"
      ],
      "execution_count": 17,
      "outputs": [
        {
          "output_type": "stream",
          "text": [
            "(109242, 13869)\n"
          ],
          "name": "stdout"
        }
      ]
    },
    {
      "cell_type": "code",
      "metadata": {
        "id": "-IlsfBvtjIX1",
        "colab_type": "code",
        "outputId": "53e3a6bf-ac73-4633-dc5a-6f728889ac1a",
        "colab": {
          "base_uri": "https://localhost:8080/",
          "height": 173
        }
      },
      "source": [
        "from keras.models import Sequential\n",
        "from keras.layers import Dense, Conv1D, Flatten, MaxPooling1D, BatchNormalization, Dropout\n",
        "\n",
        "batch_size = 64\n",
        "# inputs = inputs\n",
        "# outputs =outputs\n",
        "#create model\n",
        "model = Sequential()\n",
        "#add model layers\n",
        "#model.add(Conv2D(64, kernel_size=3, activation=’relu’, input_shape=(28,28,1)))\n",
        "model.add(Conv1D(filters = 64, kernel_size=1, activation='relu', input_shape=(x_train_np.shape[1],1)))\n",
        "model.add(Conv1D(filters = 64, kernel_size=1, activation='relu'))\n",
        "model.add(MaxPooling1D(pool_size =2))\n",
        "model.add(Flatten())\n",
        "model.add(Dense(100, activation='relu'))\n",
        "model.add(Dense(5, activation='softmax'))"
      ],
      "execution_count": 18,
      "outputs": [
        {
          "output_type": "stream",
          "text": [
            "WARNING:tensorflow:From /usr/local/lib/python3.6/dist-packages/keras/backend/tensorflow_backend.py:66: The name tf.get_default_graph is deprecated. Please use tf.compat.v1.get_default_graph instead.\n",
            "\n",
            "WARNING:tensorflow:From /usr/local/lib/python3.6/dist-packages/keras/backend/tensorflow_backend.py:541: The name tf.placeholder is deprecated. Please use tf.compat.v1.placeholder instead.\n",
            "\n",
            "WARNING:tensorflow:From /usr/local/lib/python3.6/dist-packages/keras/backend/tensorflow_backend.py:4432: The name tf.random_uniform is deprecated. Please use tf.random.uniform instead.\n",
            "\n",
            "WARNING:tensorflow:From /usr/local/lib/python3.6/dist-packages/keras/backend/tensorflow_backend.py:4267: The name tf.nn.max_pool is deprecated. Please use tf.nn.max_pool2d instead.\n",
            "\n"
          ],
          "name": "stdout"
        }
      ]
    },
    {
      "cell_type": "code",
      "metadata": {
        "id": "z_kM3yJHoV_6",
        "colab_type": "code",
        "outputId": "9f76885c-2e29-4778-c887-f444127865af",
        "colab": {
          "base_uri": "https://localhost:8080/",
          "height": 357
        }
      },
      "source": [
        "model.summary()"
      ],
      "execution_count": 19,
      "outputs": [
        {
          "output_type": "stream",
          "text": [
            "Model: \"sequential_1\"\n",
            "_________________________________________________________________\n",
            "Layer (type)                 Output Shape              Param #   \n",
            "=================================================================\n",
            "conv1d_1 (Conv1D)            (None, 13869, 64)         128       \n",
            "_________________________________________________________________\n",
            "conv1d_2 (Conv1D)            (None, 13869, 64)         4160      \n",
            "_________________________________________________________________\n",
            "max_pooling1d_1 (MaxPooling1 (None, 6934, 64)          0         \n",
            "_________________________________________________________________\n",
            "flatten_1 (Flatten)          (None, 443776)            0         \n",
            "_________________________________________________________________\n",
            "dense_1 (Dense)              (None, 100)               44377700  \n",
            "_________________________________________________________________\n",
            "dense_2 (Dense)              (None, 5)                 505       \n",
            "=================================================================\n",
            "Total params: 44,382,493\n",
            "Trainable params: 44,382,493\n",
            "Non-trainable params: 0\n",
            "_________________________________________________________________\n"
          ],
          "name": "stdout"
        }
      ]
    },
    {
      "cell_type": "code",
      "metadata": {
        "id": "PZF_X0CtiY8K",
        "colab_type": "code",
        "colab": {}
      },
      "source": [
        "#compile model using accuracy to measure model performance\n",
        "#model2.compile(optimizer='adam', loss='categorical_crossentropy', metrics=['accuracy'])"
      ],
      "execution_count": 0,
      "outputs": []
    },
    {
      "cell_type": "code",
      "metadata": {
        "id": "QFCD35M5ppOB",
        "colab_type": "code",
        "outputId": "21e595d6-a74a-4d07-cd62-dc24e8f68e36",
        "colab": {
          "base_uri": "https://localhost:8080/",
          "height": 34
        }
      },
      "source": [
        "print(y_train.shape)"
      ],
      "execution_count": 20,
      "outputs": [
        {
          "output_type": "stream",
          "text": [
            "(109242, 5)\n"
          ],
          "name": "stdout"
        }
      ]
    },
    {
      "cell_type": "code",
      "metadata": {
        "id": "IxwggQckiZsU",
        "colab_type": "code",
        "colab": {}
      },
      "source": [
        "#train the model\n",
        "#history = model2.fit(x_train_final, y_train, validation_data=(x_test_final, y_test), epochs=2, batch_size = 162)"
      ],
      "execution_count": 0,
      "outputs": []
    },
    {
      "cell_type": "code",
      "metadata": {
        "id": "_6MjnTnmWhfT",
        "colab_type": "code",
        "colab": {
          "base_uri": "https://localhost:8080/",
          "height": 785
        },
        "outputId": "ee38d1f0-860e-403b-a3a8-45f30e5ddc54"
      },
      "source": [
        "from keras import backend as K\n",
        "\n",
        "def recall(y_true, y_pred):\n",
        "    true_positives = K.sum(K.round(K.clip(y_true * y_pred, 0, 1)))\n",
        "    possible_positives = K.sum(K.round(K.clip(y_true, 0, 1)))\n",
        "    recall = true_positives / (possible_positives + K.epsilon())\n",
        "    return recall\n",
        "\n",
        "def precision(y_true, y_pred):\n",
        "    true_positives = K.sum(K.round(K.clip(y_true * y_pred, 0, 1)))\n",
        "    predicted_positives = K.sum(K.round(K.clip(y_pred, 0, 1)))\n",
        "    precision = true_positives / (predicted_positives + K.epsilon())\n",
        "    return precision\n",
        "\n",
        "# compile the model\n",
        "model.compile(optimizer='adam', loss='categorical_crossentropy', metrics=['acc', precision, recall])\n",
        "\n",
        "# fit the model\n",
        "#history = model.fit(Xtrain, ytrain, validation_split=0.3, epochs=10, verbose=0)\n",
        "\n",
        "history = model.fit(x_train_final, y_train, validation_data=(x_test_final, y_test), epochs=10, batch_size = 162)\n"
      ],
      "execution_count": 21,
      "outputs": [
        {
          "output_type": "stream",
          "text": [
            "WARNING:tensorflow:From /usr/local/lib/python3.6/dist-packages/keras/optimizers.py:793: The name tf.train.Optimizer is deprecated. Please use tf.compat.v1.train.Optimizer instead.\n",
            "\n",
            "WARNING:tensorflow:From /usr/local/lib/python3.6/dist-packages/keras/backend/tensorflow_backend.py:3576: The name tf.log is deprecated. Please use tf.math.log instead.\n",
            "\n",
            "WARNING:tensorflow:From /tensorflow-1.15.0/python3.6/tensorflow_core/python/ops/math_grad.py:1424: where (from tensorflow.python.ops.array_ops) is deprecated and will be removed in a future version.\n",
            "Instructions for updating:\n",
            "Use tf.where in 2.0, which has the same broadcast rule as np.where\n",
            "WARNING:tensorflow:From /usr/local/lib/python3.6/dist-packages/keras/backend/tensorflow_backend.py:1033: The name tf.assign_add is deprecated. Please use tf.compat.v1.assign_add instead.\n",
            "\n",
            "WARNING:tensorflow:From /usr/local/lib/python3.6/dist-packages/keras/backend/tensorflow_backend.py:1020: The name tf.assign is deprecated. Please use tf.compat.v1.assign instead.\n",
            "\n",
            "WARNING:tensorflow:From /usr/local/lib/python3.6/dist-packages/keras/backend/tensorflow_backend.py:3005: The name tf.Session is deprecated. Please use tf.compat.v1.Session instead.\n",
            "\n",
            "Train on 109242 samples, validate on 46818 samples\n",
            "Epoch 1/10\n",
            "WARNING:tensorflow:From /usr/local/lib/python3.6/dist-packages/keras/backend/tensorflow_backend.py:190: The name tf.get_default_session is deprecated. Please use tf.compat.v1.get_default_session instead.\n",
            "\n",
            "WARNING:tensorflow:From /usr/local/lib/python3.6/dist-packages/keras/backend/tensorflow_backend.py:197: The name tf.ConfigProto is deprecated. Please use tf.compat.v1.ConfigProto instead.\n",
            "\n",
            "WARNING:tensorflow:From /usr/local/lib/python3.6/dist-packages/keras/backend/tensorflow_backend.py:207: The name tf.global_variables is deprecated. Please use tf.compat.v1.global_variables instead.\n",
            "\n",
            "WARNING:tensorflow:From /usr/local/lib/python3.6/dist-packages/keras/backend/tensorflow_backend.py:216: The name tf.is_variable_initialized is deprecated. Please use tf.compat.v1.is_variable_initialized instead.\n",
            "\n",
            "WARNING:tensorflow:From /usr/local/lib/python3.6/dist-packages/keras/backend/tensorflow_backend.py:223: The name tf.variables_initializer is deprecated. Please use tf.compat.v1.variables_initializer instead.\n",
            "\n",
            "109242/109242 [==============================] - 326s 3ms/step - loss: 1.0329 - acc: 0.5835 - precision: 0.6437 - recall: 0.4252 - val_loss: 0.9379 - val_acc: 0.6201 - val_precision: 0.6824 - val_recall: 0.4900\n",
            "Epoch 2/10\n",
            "109242/109242 [==============================] - 313s 3ms/step - loss: 0.8659 - acc: 0.6450 - precision: 0.7022 - recall: 0.5400 - val_loss: 0.9166 - val_acc: 0.6291 - val_precision: 0.6810 - val_recall: 0.5311\n",
            "Epoch 3/10\n",
            "109242/109242 [==============================] - 313s 3ms/step - loss: 0.7918 - acc: 0.6721 - precision: 0.7232 - recall: 0.5871 - val_loss: 0.9017 - val_acc: 0.6407 - val_precision: 0.6875 - val_recall: 0.5460\n",
            "Epoch 4/10\n",
            "109242/109242 [==============================] - 312s 3ms/step - loss: 0.7269 - acc: 0.6960 - precision: 0.7380 - recall: 0.6271 - val_loss: 0.9119 - val_acc: 0.6399 - val_precision: 0.6807 - val_recall: 0.5559\n",
            "Epoch 5/10\n",
            "109242/109242 [==============================] - 312s 3ms/step - loss: 0.6744 - acc: 0.7168 - precision: 0.7532 - recall: 0.6606 - val_loss: 0.9422 - val_acc: 0.6426 - val_precision: 0.6718 - val_recall: 0.5839\n",
            "Epoch 6/10\n",
            "109242/109242 [==============================] - 313s 3ms/step - loss: 0.6312 - acc: 0.7310 - precision: 0.7624 - recall: 0.6845 - val_loss: 0.9616 - val_acc: 0.6369 - val_precision: 0.6654 - val_recall: 0.5799\n",
            "Epoch 7/10\n",
            "109242/109242 [==============================] - 312s 3ms/step - loss: 0.5979 - acc: 0.7437 - precision: 0.7712 - recall: 0.7033 - val_loss: 0.9981 - val_acc: 0.6381 - val_precision: 0.6626 - val_recall: 0.5928\n",
            "Epoch 8/10\n",
            "109242/109242 [==============================] - 313s 3ms/step - loss: 0.5719 - acc: 0.7523 - precision: 0.7772 - recall: 0.7158 - val_loss: 1.0291 - val_acc: 0.6358 - val_precision: 0.6569 - val_recall: 0.5953\n",
            "Epoch 9/10\n",
            "109242/109242 [==============================] - 313s 3ms/step - loss: 0.5494 - acc: 0.7594 - precision: 0.7830 - recall: 0.7266 - val_loss: 1.0583 - val_acc: 0.6350 - val_precision: 0.6550 - val_recall: 0.5978\n",
            "Epoch 10/10\n",
            "109242/109242 [==============================] - 312s 3ms/step - loss: 0.5327 - acc: 0.7644 - precision: 0.7870 - recall: 0.7348 - val_loss: 1.0541 - val_acc: 0.6331 - val_precision: 0.6544 - val_recall: 0.5944\n"
          ],
          "name": "stdout"
        }
      ]
    },
    {
      "cell_type": "code",
      "metadata": {
        "id": "4vtgSdtKjlas",
        "colab_type": "code",
        "outputId": "1ce0abdc-465e-40c7-f699-00ad6bdc30c3",
        "colab": {
          "base_uri": "https://localhost:8080/",
          "height": 68
        }
      },
      "source": [
        "loss = history.history['val_loss']\n",
        "accu = history.history['val_acc']\n",
        "prec = history.history['val_precision']\n",
        "rec = history.history['val_recall']\n",
        "\n",
        "avg_loss = 0\n",
        "for l in loss:\n",
        "  avg_loss = avg_loss + l\n",
        "avg_loss = avg_loss/ len(loss)\n",
        "\n",
        "avg_accu = 0\n",
        "for a in accu:\n",
        "  avg_accu = avg_accu + a\n",
        "avg_accu = avg_accu/ len(accu)\n",
        "\n",
        "avg_prec = 0\n",
        "for p in prec:\n",
        "  avg_prec = avg_prec + p\n",
        "avg_prec = avg_prec/ len(prec)\n",
        "\n",
        "avg_rec = 0\n",
        "for r in rec:\n",
        "  avg_rec = avg_rec + p\n",
        "avg_rec = avg_rec/ len(rec)\n",
        "\n",
        "print(\"The model's L1 loss is \" + str(avg_loss))\n",
        "f1 = (2*(avg_prec*avg_rec)/(avg_prec + avg_rec))\n",
        "print(\"The model's Accuracy is : \" + str(avg_accu))\n",
        "print(\"The model's f1-score is : \" + str(f1))"
      ],
      "execution_count": 22,
      "outputs": [
        {
          "output_type": "stream",
          "text": [
            "The model's L1 loss is 0.9711492074814636\n",
            "The model's Accuracy is : 0.6351424660649679\n",
            "The model's f1-score is : 0.661985125924104\n"
          ],
          "name": "stdout"
        }
      ]
    },
    {
      "cell_type": "code",
      "metadata": {
        "id": "LyHxqdXn1vjx",
        "colab_type": "code",
        "colab": {
          "base_uri": "https://localhost:8080/",
          "height": 585
        },
        "outputId": "bec6569f-b7f9-4bd8-cf03-8f4f8f390c00"
      },
      "source": [
        "import matplotlib.pyplot as plt\n",
        "\n",
        "#history = model.fit(x, y, validation_split=0.25, epochs=50, batch_size=16, verbose=1)\n",
        "\n",
        "# Plot training & validation accuracy values\n",
        "plt.plot(history.history['acc'])\n",
        "plt.plot(history.history['val_acc'])\n",
        "plt.title('Model accuracy')\n",
        "plt.ylabel('Accuracy')\n",
        "plt.xlabel('Epoch')\n",
        "plt.legend(['Train', 'Test'], loc='upper left')\n",
        "plt.show()\n",
        "\n",
        "# Plot training & validation loss values\n",
        "plt.plot(history.history['loss'])\n",
        "plt.plot(history.history['val_loss'])\n",
        "plt.title('Model loss')\n",
        "plt.ylabel('Loss')\n",
        "plt.xlabel('Epoch')\n",
        "plt.legend(['Train', 'Test'], loc='upper left')\n",
        "plt.show()"
      ],
      "execution_count": 23,
      "outputs": [
        {
          "output_type": "display_data",
          "data": {
            "image/png": "[encoded data removed]",
            "text/plain": [
              "<Figure size 432x288 with 1 Axes>"
            ]
          },
          "metadata": {
            "tags": []
          }
        },
        {
          "output_type": "display_data",
          "data": {
            "image/png": "[encoded data removed]",
            "text/plain": [
              "<Figure size 432x288 with 1 Axes>"
            ]
          },
          "metadata": {
            "tags": []
          }
        }
      ]
    },
    {
      "cell_type": "markdown",
      "metadata": {
        "id": "7oWf7HBXLANE",
        "colab_type": "text"
      },
      "source": [
        "## Save and Load model"
      ]
    },
    {
      "cell_type": "code",
      "metadata": {
        "id": "wCya5m6HDQyA",
        "colab_type": "code",
        "colab": {}
      },
      "source": [
        "# #save model and architecture to single file\n",
        "model.save(\"modelTF_IDF_Tenzin.h5\")\n"
      ],
      "execution_count": 0,
      "outputs": []
    },
    {
      "cell_type": "code",
      "metadata": {
        "id": "o7fjpy7gDEkj",
        "colab_type": "code",
        "colab": {}
      },
      "source": [
        "# # load and evaluate a saved model\n",
        "# from numpy import loadtxt\n",
        "# from keras.models import load_model\n",
        "# from keras import backend as K\n",
        "\n",
        "# def recall(y_true, y_pred):\n",
        "#     true_positives = K.sum(K.round(K.clip(y_true * y_pred, 0, 1)))\n",
        "#     possible_positives = K.sum(K.round(K.clip(y_true, 0, 1)))\n",
        "#     recall = true_positives / (possible_positives + K.epsilon())\n",
        "#     return recall\n",
        "\n",
        "# def precision(y_true, y_pred):\n",
        "#     true_positives = K.sum(K.round(K.clip(y_true * y_pred, 0, 1)))\n",
        "#     predicted_positives = K.sum(K.round(K.clip(y_pred, 0, 1)))\n",
        "#     precision = true_positives / (predicted_positives + K.epsilon())\n",
        "#     return precision\n"
      ],
      "execution_count": 0,
      "outputs": []
    },
    {
      "cell_type": "code",
      "metadata": {
        "id": "ID-6VkvpJ0GM",
        "colab_type": "code",
        "colab": {}
      },
      "source": [
        "\n",
        "# # load and evaluate a saved model\n",
        "# from numpy import loadtxt\n",
        "# from keras.models import load_model\n",
        "\n",
        "# # load model\n",
        "# model_load = load_model('model.h5')\n",
        "\n",
        "# # compile the model\n",
        "# model_load.compile(optimizer='adam', loss='categorical_crossentropy', metrics=['acc', precision, recall])\n",
        "\n",
        "# # summarize model.\n",
        "# model_load.summary()\n",
        "\n",
        "# #evaluate the model\n",
        "# history = model_load.evaluate(x_test_final, y_test, verbose=0)"
      ],
      "execution_count": 0,
      "outputs": []
    }
  ]
}